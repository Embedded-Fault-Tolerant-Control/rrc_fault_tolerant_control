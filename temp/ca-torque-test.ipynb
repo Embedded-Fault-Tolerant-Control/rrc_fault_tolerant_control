{
 "cells": [
  {
   "cell_type": "code",
   "execution_count": 207,
   "metadata": {},
   "outputs": [],
   "source": [
    "import numpy as np"
   ]
  },
  {
   "cell_type": "code",
   "execution_count": 208,
   "metadata": {},
   "outputs": [
    {
     "name": "stdout",
     "output_type": "stream",
     "text": [
      "Couldn't find program: 'false'\n"
     ]
    }
   ],
   "source": [
    "%%script false --no-raise-error\n",
    "# Above script disables this block\n",
    "\n",
    "# Quad X\n",
    "m1 = [-1,1,1,1]\n",
    "m2 = [1,-1,1,1]\n",
    "m3 = [1,1,-1,1]\n",
    "m4 = [-1,-1,-1,1]\n",
    "motors = [m1,m2,m3,m4]"
   ]
  },
  {
   "cell_type": "code",
   "execution_count": 209,
   "metadata": {},
   "outputs": [],
   "source": [
    "# %%script false --no-raise-error\n",
    "# Above script disables this block\n",
    "\n",
    "# Hexa X\n",
    "m1 = [-1, 0, -1, 1]\n",
    "m2 = [1, 0, 1, 1]\n",
    "m3 = [0.5,-0.866,-1, 1]\n",
    "m4 = [-0.5,0.866,1, 1]\n",
    "m5 = [-0.5,-0.866,1, 1]\n",
    "m6 = [0.5,0.866,-1, 1]\n",
    "motors = [m1,m2,m3,m4,m5,m6]"
   ]
  },
  {
   "cell_type": "code",
   "execution_count": 210,
   "metadata": {},
   "outputs": [
    {
     "name": "stdout",
     "output_type": "stream",
     "text": [
      "Actuator Effectiveness Matrix: \n",
      "[[-1, 0, -1, 1], [1, 0, 1, 1], [0.5, -0.866, -1, 1], [-0.5, 0.866, 1, 1], [-0.5, -0.866, 1, 1], [0.5, 0.866, -1, 1]]\n",
      "Control Allocation Matrix: \n",
      "[[-0.33333333  0.33333333  0.16666667 -0.16666667 -0.16666667  0.16666667]\n",
      " [ 0.          0.         -0.2886836   0.2886836  -0.2886836   0.2886836 ]\n",
      " [-0.16666667  0.16666667 -0.16666667  0.16666667  0.16666667 -0.16666667]\n",
      " [ 0.16666667  0.16666667  0.16666667  0.16666667  0.16666667  0.16666667]]\n"
     ]
    }
   ],
   "source": [
    "EA = []\n",
    "for motor in motors:\n",
    "    # 0 - roll, 1 - pitch, 2 - yaw, 3 - thrust\n",
    "    m = [motor[0], motor[1], motor[2], motor[3]]\n",
    "    EA.append(m)\n",
    "CA = np.linalg.pinv(EA)\n",
    "\n",
    "print(f\"Actuator Effectiveness Matrix: \\n{EA}\")\n",
    "print(f\"Control Allocation Matrix: \\n{CA}\")"
   ]
  },
  {
   "cell_type": "code",
   "execution_count": 211,
   "metadata": {},
   "outputs": [],
   "source": [
    "# Control allocation to Torques\n",
    "# [Tp, Tq, Tr, T] = [CA] * [u1, u2, u3, u4, u5, u6]\n",
    "Tp = Tq = Tr = 0\n",
    "T = 10\n",
    "Torq = [Tp, Tq, Tr, T]\n",
    "u_input = [0, 0, 0, 0, 0, 0]"
   ]
  },
  {
   "cell_type": "code",
   "execution_count": 212,
   "metadata": {},
   "outputs": [
    {
     "name": "stdout",
     "output_type": "stream",
     "text": [
      "Inverted CA matrix: [[-1.00000000e+00 -1.12940496e-16 -1.00000000e+00  1.00000000e+00]\n",
      " [ 1.00000000e+00  3.44445297e-16  1.00000000e+00  1.00000000e+00]\n",
      " [ 5.00000000e-01 -8.66000000e-01 -1.00000000e+00  1.00000000e+00]\n",
      " [-5.00000000e-01  8.66000000e-01  1.00000000e+00  1.00000000e+00]\n",
      " [-5.00000000e-01 -8.66000000e-01  1.00000000e+00  1.00000000e+00]\n",
      " [ 5.00000000e-01  8.66000000e-01 -1.00000000e+00  1.00000000e+00]]\n"
     ]
    }
   ],
   "source": [
    "CA_inv = np.linalg.pinv(CA)\n",
    "print(f\"Inverted CA matrix: {CA_inv}\")"
   ]
  },
  {
   "cell_type": "code",
   "execution_count": 213,
   "metadata": {},
   "outputs": [
    {
     "name": "stdout",
     "output_type": "stream",
     "text": [
      "At equilibrium\n",
      "u1, u2, u3, u4, u5, u6: [10. 10. 10. 10. 10. 10.]\n"
     ]
    }
   ],
   "source": [
    "# Compute u1,... u6 for equilibrium with some thrust T\n",
    "# u_input = CA_inv * Torq\n",
    "u_input = np.matmul(CA_inv, Torq)\n",
    "print(\"At equilibrium\")\n",
    "print(f\"u1, u2, u3, u4, u5, u6: {u_input}\")"
   ]
  },
  {
   "cell_type": "code",
   "execution_count": 214,
   "metadata": {},
   "outputs": [
    {
     "name": "stdout",
     "output_type": "stream",
     "text": [
      "Control Allocation with 1 motor fault in m1: \n",
      "[[ 0.          0.33333333  0.16666667 -0.16666667 -0.16666667  0.16666667]\n",
      " [ 0.          0.         -0.2886836   0.2886836  -0.2886836   0.2886836 ]\n",
      " [ 0.          0.16666667 -0.16666667  0.16666667  0.16666667 -0.16666667]\n",
      " [ 0.          0.16666667  0.16666667  0.16666667  0.16666667  0.16666667]]\n"
     ]
    }
   ],
   "source": [
    "# Remove 1 motor/ disable 1 motor\n",
    "CA_fault_1 = []\n",
    "CA_fault_1 = CA\n",
    "CA_fault_1[:, 0] =  0\n",
    "# Reset CA\n",
    "CA = np.linalg.pinv(EA)\n",
    "print(f\"Control Allocation with 1 motor fault in m1: \\n{CA_fault_1}\")"
   ]
  },
  {
   "cell_type": "code",
   "execution_count": 215,
   "metadata": {},
   "outputs": [
    {
     "name": "stdout",
     "output_type": "stream",
     "text": [
      "CA: [[-0.33333333  0.33333333  0.16666667 -0.16666667 -0.16666667  0.16666667]\n",
      " [ 0.          0.         -0.2886836   0.2886836  -0.2886836   0.2886836 ]\n",
      " [-0.16666667  0.16666667 -0.16666667  0.16666667  0.16666667 -0.16666667]\n",
      " [ 0.16666667  0.16666667  0.16666667  0.16666667  0.16666667  0.16666667]]\n",
      "Control Allocation with 1 motor fault in m3: \n",
      "[[-0.33333333  0.33333333  0.         -0.16666667 -0.16666667  0.16666667]\n",
      " [ 0.          0.          0.          0.2886836  -0.2886836   0.2886836 ]\n",
      " [-0.16666667  0.16666667  0.          0.16666667  0.16666667 -0.16666667]\n",
      " [ 0.16666667  0.16666667  0.          0.16666667  0.16666667  0.16666667]]\n"
     ]
    }
   ],
   "source": [
    "# Remove motor 3\n",
    "print(f\"CA: {CA}\")\n",
    "CA_fault_3 = CA\n",
    "CA_fault_3[:, 2] =  0\n",
    "# Reset CA\n",
    "CA = np.linalg.pinv(EA)\n",
    "print(f\"Control Allocation with 1 motor fault in m3: \\n{CA_fault_3}\")"
   ]
  },
  {
   "cell_type": "code",
   "execution_count": 216,
   "metadata": {},
   "outputs": [
    {
     "name": "stdout",
     "output_type": "stream",
     "text": [
      "Control Allocation with NO FAULTs\n",
      "u1, u2, u3, u4, u5, u6: [10. 10. 10. 10. 10. 10.]\n",
      "Torque and thrust: [-3.55271368e-15  3.55271368e-15 -3.33066907e-15  1.00000000e+01]\n"
     ]
    }
   ],
   "source": [
    "# Use u1,...u6 values from equilibrium for finding Torque values instead\n",
    "# [Tp, Tq, Tr, T] = [CA_fault] * [u1, u2, u3, u4, u5, u6]\n",
    "# Torq_fault = CA_fault * u_input\n",
    "Torq_fault = np.matmul(CA, u_input)\n",
    "print(f\"Control Allocation with NO FAULTs\")\n",
    "print(f\"u1, u2, u3, u4, u5, u6: {u_input}\")\n",
    "print(f\"Torque and thrust: {Torq_fault}\")"
   ]
  },
  {
   "cell_type": "code",
   "execution_count": 217,
   "metadata": {},
   "outputs": [
    {
     "name": "stdout",
     "output_type": "stream",
     "text": [
      "\n",
      "Control Allocation with FAULT in m1\n",
      "If PWM input is NOT considering fault\n",
      "u1, u2, u3, u4, u5, u6: [10, 10, 10, 10, 10, 10]\n",
      "Torque and thrust: [3.33333333 0.         1.66666667 8.33333333]\n",
      "\n",
      "If PWM input is considering fault\n",
      "u1, u2, u3, u4, u5, u6: [0, 10, 10, 10, 10, 10]\n",
      "Torque and thrust: [3.33333333 0.         1.66666667 8.33333333]\n"
     ]
    }
   ],
   "source": [
    "# If PWM input is NOT considering fault\n",
    "u_input_fault =  [10, 10, 10, 10, 10, 10]\n",
    "Torq_fault = np.matmul(CA_fault_1, u_input_fault)\n",
    "print(f\"\\nControl Allocation with FAULT in m1\")\n",
    "print(f\"If PWM input is NOT considering fault\")\n",
    "print(f\"u1, u2, u3, u4, u5, u6: {u_input_fault}\")\n",
    "print(f\"Torque and thrust: {Torq_fault}\")\n",
    "\n",
    "# If PWM input is considering fault\n",
    "u_input_fault =  [0, 10, 10, 10, 10, 10]\n",
    "Torq_fault = np.matmul(CA_fault_1, u_input_fault)\n",
    "print(f\"\\nIf PWM input is considering fault\")\n",
    "print(f\"u1, u2, u3, u4, u5, u6: {u_input_fault}\")\n",
    "print(f\"Torque and thrust: {Torq_fault}\")"
   ]
  },
  {
   "cell_type": "code",
   "execution_count": 218,
   "metadata": {},
   "outputs": [
    {
     "name": "stdout",
     "output_type": "stream",
     "text": [
      "\n",
      "Control Allocation with FAULT in m3\n",
      "If PWM input is NOT considering fault\n",
      "u1, u2, u3, u4, u5, u6: [10, 10, 10, 10, 10, 10]\n",
      "Torque and thrust: [-1.66666667  2.88683603  1.66666667  8.33333333]\n",
      "\n",
      "If PWM input is considering fault\n",
      "u1, u2, u3, u4, u5, u6: [10, 10, 0, 10, 10, 10]\n",
      "Torque and thrust: [-1.66666667  2.88683603  1.66666667  8.33333333]\n"
     ]
    }
   ],
   "source": [
    "# If PWM input is NOT considering fault\n",
    "u_input_fault =  [10, 10, 10, 10, 10, 10]\n",
    "Torq_fault = np.matmul(CA_fault_3, u_input_fault)\n",
    "print(f\"\\nControl Allocation with FAULT in m3\")\n",
    "print(f\"If PWM input is NOT considering fault\")\n",
    "print(f\"u1, u2, u3, u4, u5, u6: {u_input_fault}\")\n",
    "print(f\"Torque and thrust: {Torq_fault}\")\n",
    "\n",
    "# If PWM input is considering fault\n",
    "u_input_fault =  [10, 10, 0, 10, 10, 10]\n",
    "Torq_fault = np.matmul(CA_fault_3, u_input_fault)\n",
    "print(f\"\\nIf PWM input is considering fault\")\n",
    "print(f\"u1, u2, u3, u4, u5, u6: {u_input_fault}\")\n",
    "print(f\"Torque and thrust: {Torq_fault}\")"
   ]
  }
 ],
 "metadata": {
  "kernelspec": {
   "display_name": "Python 3",
   "language": "python",
   "name": "python3"
  },
  "language_info": {
   "codemirror_mode": {
    "name": "ipython",
    "version": 3
   },
   "file_extension": ".py",
   "mimetype": "text/x-python",
   "name": "python",
   "nbconvert_exporter": "python",
   "pygments_lexer": "ipython3",
   "version": "3.7.9"
  },
  "orig_nbformat": 4,
  "vscode": {
   "interpreter": {
    "hash": "1f2ac25b4a6d870602abfa5d74e7d6f1ae274ba9e86645830384575c0e5c89f3"
   }
  }
 },
 "nbformat": 4,
 "nbformat_minor": 2
}
